{
 "cells": [
  {
   "cell_type": "markdown",
   "metadata": {},
   "source": [
    "# Severstal: Steel Defect Detection\n",
    "\n",
    "https://www.kaggle.com/c/severstal-steel-defect-detection"
   ]
  },
  {
   "cell_type": "code",
   "execution_count": 96,
   "metadata": {},
   "outputs": [],
   "source": [
    "import os\n",
    "import numpy as np\n",
    "import pandas as pd\n",
    "\n",
    "import torch\n",
    "from torch import nn\n",
    "from torch.nn import functional as F\n",
    "from torch import optim\n",
    "from torch.utils.data import DataLoader, sampler\n",
    "from torchvision import transforms as T\n",
    "from torchvision import models\n",
    "\n",
    "from PIL import Image\n",
    "\n",
    "from sklearn.model_selection import train_test_split\n",
    "\n",
    "from matplotlib import pyplot as plt\n",
    "%matplotlib inline\n",
    "\n",
    "from datetime import datetime\n",
    "\n",
    "from severstal_utils import *\n",
    "from severstal_models import *"
   ]
  },
  {
   "cell_type": "code",
   "execution_count": 91,
   "metadata": {},
   "outputs": [
    {
     "name": "stdout",
     "output_type": "stream",
     "text": [
      "The autoreload extension is already loaded. To reload it, use:\n",
      "  %reload_ext autoreload\n"
     ]
    }
   ],
   "source": [
    "%load_ext autoreload\n",
    "%autoreload 2"
   ]
  },
  {
   "cell_type": "code",
   "execution_count": 92,
   "metadata": {},
   "outputs": [],
   "source": [
    "TRAIN_PATH = 'train_images'\n",
    "TEST_PATH = 'test_images'\n",
    "MODEL_PATH = 'models/'\n",
    "SUBMS_PATH = 'submissions/'\n",
    "\n",
    "\n",
    "if torch.cuda.is_available():\n",
    "    device = torch.device('cuda')\n",
    "    dtype = torch.cuda.FloatTensor\n",
    "else:\n",
    "    device = torch.device('cpu')\n",
    "    dtype = torch.FloatTensor"
   ]
  },
  {
   "cell_type": "code",
   "execution_count": 93,
   "metadata": {},
   "outputs": [],
   "source": [
    "img_mean = (0.3438812517320017,)\n",
    "img_std = (0.13965334396720055,)\n",
    "\n",
    "transform_train = T.Compose([\n",
    "    T.ToTensor(),\n",
    "    T.Normalize(mean=img_mean, std=img_std)\n",
    "])\n",
    "\n",
    "transform_val = T.Compose([\n",
    "    T.ToTensor(),\n",
    "    T.Normalize(mean=img_mean, std=img_std)\n",
    "])"
   ]
  },
  {
   "cell_type": "code",
   "execution_count": 95,
   "metadata": {},
   "outputs": [],
   "source": [
    "# Splitting to training and validation parts\n",
    "imglist = os.listdir(TRAIN_PATH)\n",
    "imglist_train, imglist_val = train_test_split(imglist, test_size=0.2, random_state=0)\n",
    "\n",
    "# Datasets\n",
    "ds_train = SteelFramesDataset(TRAIN_PATH, imglist_train, masks_csv='train.csv', transform=transform_train)\n",
    "ds_val = SteelFramesDataset(TRAIN_PATH, imglist_val, masks_csv='train.csv', transform=transform_val)"
   ]
  },
  {
   "cell_type": "code",
   "execution_count": 99,
   "metadata": {},
   "outputs": [],
   "source": [
    "params_loader = {\n",
    "    'batch_size': NUM_FRAMES,\n",
    "    'num_workers': 4,\n",
    "    'pin_memory': True\n",
    "}\n",
    "\n",
    "# Data loaders\n",
    "loader_train = DataLoader(\n",
    "    ds_train,\n",
    "    shuffle=True,\n",
    "    **params_loader\n",
    ")\n",
    "loader_val = DataLoader(\n",
    "    ds_val,\n",
    "    shuffle=False,\n",
    "    **params_loader)"
   ]
  },
  {
   "cell_type": "code",
   "execution_count": 105,
   "metadata": {},
   "outputs": [],
   "source": [
    "# Model defenition\n",
    "params_unet = {\n",
    "    'depth': 5,\n",
    "    'n_filters': 16,\n",
    "    'bn': True,\n",
    "    'activation': 'relu'\n",
    "}\n",
    "\n",
    "unet = UnetD(**params_unet)\n",
    "unet = unet.to(device=device);\n",
    "\n",
    "detector = Detector(unet, device)"
   ]
  },
  {
   "cell_type": "code",
   "execution_count": null,
   "metadata": {},
   "outputs": [
    {
     "name": "stdout",
     "output_type": "stream",
     "text": [
      "After 1001 frames processed\n",
      "Trainig loss = 1.6056696201537872\n",
      "Validation loss: 1.4093183311281834\n",
      "After 2002 frames processed\n",
      "Trainig loss = 1.3344863161340461\n",
      "Validation loss: 1.2702207498922173\n",
      "After 3003 frames processed\n",
      "Trainig loss = 1.186470256818758\n",
      "Validation loss: 1.1190422101919861\n",
      "After 4004 frames processed\n",
      "Trainig loss = 1.057180233351834\n",
      "Validation loss: 0.9897314707438151\n",
      "After 5005 frames processed\n",
      "Trainig loss = 0.9361093469433017\n",
      "Validation loss: 0.8668374378432712\n",
      "After 6006 frames processed\n",
      "Trainig loss = 0.8175276409495961\n",
      "Validation loss: 0.77199826270413\n",
      "After 7000 frames processed\n",
      "Trainig loss = 0.7291654214053087\n",
      "Validation loss: 0.6761268690501117\n",
      "After 8001 frames processed\n",
      "Trainig loss = 0.6406407689714765\n",
      "Validation loss: 0.5908665621242736\n",
      "After 9002 frames processed\n",
      "Trainig loss = 0.5733173264490141\n",
      "Validation loss: 0.5295489358826109\n",
      "After 10003 frames processed\n",
      "Trainig loss = 0.4919619568578013\n",
      "Validation loss: 0.4591265853521079\n",
      "After 11004 frames processed\n",
      "Trainig loss = 0.44828750536992\n",
      "Validation loss: 0.41706854821010153\n",
      "After 12005 frames processed\n",
      "Trainig loss = 0.4059230220484567\n",
      "Validation loss: 0.3701914355289206\n",
      "After 13006 frames processed\n",
      "Trainig loss = 0.35565554324563564\n",
      "Validation loss: 0.33994354717818726\n",
      "After 14000 frames processed\n",
      "Trainig loss = 0.3309165373654433\n",
      "Validation loss: 0.3026379843552907\n",
      "After 15001 frames processed\n",
      "Trainig loss = 0.29232229219449984\n",
      "Validation loss: 0.2769526444381442\n",
      "After 16002 frames processed\n",
      "Trainig loss = 0.2971948920846819\n",
      "Validation loss: 0.25372176904856636\n",
      "After 17003 frames processed\n",
      "Trainig loss = 0.2511748321406491\n",
      "Validation loss: 0.2327210633417587\n",
      "After 18004 frames processed\n",
      "Trainig loss = 0.23590759537019929\n",
      "Validation loss: 0.21713607589949097\n",
      "After 19005 frames processed\n",
      "Trainig loss = 0.20202852530287696\n",
      "Validation loss: 0.19667008865028976\n",
      "After 20006 frames processed\n",
      "Trainig loss = 0.1806912700404654\n",
      "Validation loss: 0.18017806532417105\n",
      "After 21000 frames processed\n",
      "Trainig loss = 0.17766694378265194\n",
      "Validation loss: 0.1685407791188907\n",
      "After 22001 frames processed\n",
      "Trainig loss = 0.16316813715062775\n",
      "Validation loss: 0.1495478404456173\n",
      "After 23002 frames processed\n",
      "Trainig loss = 0.16090752257333768\n",
      "Validation loss: 0.1456695922836365\n",
      "After 24003 frames processed\n",
      "Trainig loss = 0.14993759286361974\n",
      "Validation loss: 0.13517952053796561\n",
      "After 25004 frames processed\n",
      "Trainig loss = 0.15105651733237546\n",
      "Validation loss: 0.13443737551747756\n",
      "After 26005 frames processed\n",
      "Trainig loss = 0.144618413534823\n",
      "Validation loss: 0.1352767414956479\n",
      "After 27006 frames processed\n",
      "Trainig loss = 0.1407591120138035\n",
      "Validation loss: 0.12927176266487808\n",
      "After 28000 frames processed\n",
      "Trainig loss = 0.145782209985273\n",
      "Validation loss: 0.1254471546000458\n",
      "After 29001 frames processed\n",
      "Trainig loss = 0.13191269554354093\n",
      "Validation loss: 0.11611970216435934\n",
      "After 30002 frames processed\n",
      "Trainig loss = 0.12735671607347634\n",
      "Validation loss: 0.1236469586762876\n",
      "After 31003 frames processed\n",
      "Trainig loss = 0.13777439916258924\n",
      "Validation loss: 0.11002098980404929\n",
      "After 32004 frames processed\n",
      "Trainig loss = 0.1250262725968044\n",
      "Validation loss: 0.10880179305737964\n",
      "After 33005 frames processed\n",
      "Trainig loss = 0.1492165905664434\n",
      "Validation loss: 0.11004413528310086\n",
      "After 34006 frames processed\n",
      "Trainig loss = 0.14487740527708215\n",
      "Validation loss: 0.11662627129342078\n",
      "After 35000 frames processed\n",
      "Trainig loss = 0.12623870528867126\n",
      "Validation loss: 0.10708633045552561\n",
      "After 36001 frames processed\n",
      "Trainig loss = 0.1326813225250144\n",
      "Validation loss: 0.10755570439767025\n",
      "After 37002 frames processed\n",
      "Trainig loss = 0.11762259475938924\n",
      "Validation loss: 0.10685290876804135\n",
      "After 38003 frames processed\n",
      "Trainig loss = 0.11239660901206357\n",
      "Validation loss: 0.10941311501280694\n",
      "After 39004 frames processed\n",
      "Trainig loss = 0.11818298836844368\n"
     ]
    }
   ],
   "source": [
    "%%time\n",
    "\n",
    "params_train = {\n",
    "    'epochs': 2,\n",
    "    'print_every': 1000,\n",
    "    'lr': 0.0001,\n",
    "}\n",
    "\n",
    "loss_fun = torch.nn.CrossEntropyLoss()\n",
    "\n",
    "detector.fit(loader_train, loader_val, loss_fun, **params_train)"
   ]
  },
  {
   "cell_type": "code",
   "execution_count": null,
   "metadata": {},
   "outputs": [],
   "source": [
    "plt.plot(\n",
    "    detector.n_frames, detector.loss_history,\n",
    "    detector.n_frames, detector.val_loss_history,\n",
    ");"
   ]
  }
 ],
 "metadata": {
  "kernelspec": {
   "display_name": "Python 3",
   "language": "python",
   "name": "python3"
  },
  "language_info": {
   "codemirror_mode": {
    "name": "ipython",
    "version": 3
   },
   "file_extension": ".py",
   "mimetype": "text/x-python",
   "name": "python",
   "nbconvert_exporter": "python",
   "pygments_lexer": "ipython3",
   "version": "3.8.2"
  },
  "toc": {
   "base_numbering": 1,
   "nav_menu": {},
   "number_sections": false,
   "sideBar": true,
   "skip_h1_title": false,
   "title_cell": "Table of Contents",
   "title_sidebar": "Contents",
   "toc_cell": false,
   "toc_position": {},
   "toc_section_display": true,
   "toc_window_display": false
  },
  "varInspector": {
   "cols": {
    "lenName": 16,
    "lenType": 16,
    "lenVar": 40
   },
   "kernels_config": {
    "python": {
     "delete_cmd_postfix": "",
     "delete_cmd_prefix": "del ",
     "library": "var_list.py",
     "varRefreshCmd": "print(var_dic_list())"
    },
    "r": {
     "delete_cmd_postfix": ") ",
     "delete_cmd_prefix": "rm(",
     "library": "var_list.r",
     "varRefreshCmd": "cat(var_dic_list()) "
    }
   },
   "types_to_exclude": [
    "module",
    "function",
    "builtin_function_or_method",
    "instance",
    "_Feature"
   ],
   "window_display": false
  }
 },
 "nbformat": 4,
 "nbformat_minor": 2
}
