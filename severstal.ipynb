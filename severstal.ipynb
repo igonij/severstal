{
 "cells": [
  {
   "cell_type": "markdown",
   "metadata": {},
   "source": [
    "# Severstal: Steel Defect Detection\n",
    "\n",
    "https://www.kaggle.com/c/severstal-steel-defect-detection"
   ]
  },
  {
   "cell_type": "code",
   "execution_count": 1,
   "metadata": {},
   "outputs": [],
   "source": [
    "import os\n",
    "import numpy as np\n",
    "import pandas as pd\n",
    "\n",
    "import torch\n",
    "from torch import nn\n",
    "from torch.nn import functional as F\n",
    "from torch import optim\n",
    "from torch.utils.data import DataLoader, sampler\n",
    "from torchvision import transforms as T\n",
    "from torchvision import models\n",
    "\n",
    "from PIL import Image\n",
    "\n",
    "from sklearn.model_selection import train_test_split\n",
    "\n",
    "from matplotlib import pyplot as plt\n",
    "%matplotlib inline\n",
    "\n",
    "from datetime import datetime\n",
    "\n",
    "from severstal_utils import *\n",
    "from severstal_models import *"
   ]
  },
  {
   "cell_type": "code",
   "execution_count": 2,
   "metadata": {},
   "outputs": [],
   "source": [
    "%load_ext autoreload\n",
    "%autoreload 2"
   ]
  },
  {
   "cell_type": "code",
   "execution_count": 3,
   "metadata": {},
   "outputs": [],
   "source": [
    "TRAIN_PATH = 'train_images'\n",
    "TEST_PATH = 'test_images'\n",
    "MODEL_PATH = 'models/'\n",
    "SUBMS_PATH = 'submissions/'\n",
    "\n",
    "\n",
    "if torch.cuda.is_available():\n",
    "    device = torch.device('cuda')\n",
    "    dtype = torch.cuda.FloatTensor\n",
    "else:\n",
    "    device = torch.device('cpu')\n",
    "    dtype = torch.FloatTensor"
   ]
  },
  {
   "cell_type": "code",
   "execution_count": 4,
   "metadata": {},
   "outputs": [],
   "source": [
    "img_mean = (0.3438812517320017,)\n",
    "img_std = (0.13965334396720055,)\n",
    "\n",
    "transform_train = T.Compose([\n",
    "    T.ToTensor(),\n",
    "    T.Normalize(mean=img_mean, std=img_std)\n",
    "])\n",
    "\n",
    "transform_val = T.Compose([\n",
    "    T.ToTensor(),\n",
    "    T.Normalize(mean=img_mean, std=img_std)\n",
    "])"
   ]
  },
  {
   "cell_type": "code",
   "execution_count": 5,
   "metadata": {},
   "outputs": [],
   "source": [
    "# Splitting to training and validation parts\n",
    "imglist = os.listdir(TRAIN_PATH)\n",
    "imglist_train, imglist_val = train_test_split(imglist, test_size=0.2, random_state=0)\n",
    "\n",
    "# Datasets\n",
    "ds_train = SteelFramesDataset(TRAIN_PATH, imglist_train, masks_csv='train.csv', transform=transform_train)\n",
    "ds_val = SteelFramesDataset(TRAIN_PATH, imglist_val, masks_csv='train.csv', transform=transform_val)"
   ]
  },
  {
   "cell_type": "code",
   "execution_count": 6,
   "metadata": {},
   "outputs": [],
   "source": [
    "params_loader = {\n",
    "    'batch_size': NUM_FRAMES,\n",
    "    'num_workers': 5,\n",
    "    'pin_memory': True\n",
    "}\n",
    "\n",
    "# Data loaders\n",
    "loader_train = DataLoader(\n",
    "    ds_train,\n",
    "    shuffle=True,\n",
    "    **params_loader\n",
    ")\n",
    "loader_val = DataLoader(\n",
    "    ds_val,\n",
    "    shuffle=False,\n",
    "    **params_loader)"
   ]
  },
  {
   "cell_type": "code",
   "execution_count": 7,
   "metadata": {},
   "outputs": [],
   "source": [
    "# Model defenition\n",
    "params_unet = {\n",
    "    'depth': 5,\n",
    "    'n_filters': 48,\n",
    "    'bn': True,\n",
    "    'activation': 'relu'\n",
    "}\n",
    "\n",
    "unet = UnetD(**params_unet)\n",
    "unet = unet.to(device=device);\n",
    "\n",
    "detector = Detector(unet, device)"
   ]
  },
  {
   "cell_type": "code",
   "execution_count": 8,
   "metadata": {},
   "outputs": [
    {
     "name": "stdout",
     "output_type": "stream",
     "text": [
      "After 1 epochs:\n",
      "Training loss = 0.15935544126262466\n",
      "Validation loss: 0.08538261913558902\n",
      "\n",
      "After 2 epochs:\n",
      "Training loss = 0.08744369887884244\n",
      "Validation loss: 0.07844084757964812\n",
      "\n",
      "After 3 epochs:\n",
      "Training loss = 0.0775679095511319\n",
      "Validation loss: 0.07933084460166158\n",
      "\n",
      "After 4 epochs:\n",
      "Training loss = 0.07175778589444004\n",
      "Validation loss: 0.06424047393557698\n",
      "\n",
      "After 5 epochs:\n",
      "Training loss = 0.06790531449944284\n",
      "Validation loss: 0.06890474486241571\n",
      "\n",
      "After 6 epochs:\n",
      "Training loss = 0.0638902123871709\n",
      "Validation loss: 0.0577461138220131\n",
      "\n",
      "After 7 epochs:\n",
      "Training loss = 0.06078259489409388\n",
      "Validation loss: 0.060318675620431174\n",
      "\n",
      "After 8 epochs:\n",
      "Training loss = 0.05828855474435056\n",
      "Validation loss: 0.05875995728729467\n",
      "\n",
      "After 9 epochs:\n",
      "Training loss = 0.05569580079260854\n",
      "Validation loss: 0.05591984490065088\n",
      "\n",
      "After 10 epochs:\n",
      "Training loss = 0.05435475608244405\n",
      "Validation loss: 0.057306175560716176\n",
      "\n",
      "After 11 epochs:\n",
      "Training loss = 0.05258074109871013\n",
      "Validation loss: 0.05895162319018046\n",
      "\n",
      "After 12 epochs:\n",
      "Training loss = 0.05115010983045353\n",
      "Validation loss: 0.06283900597315834\n",
      "\n",
      "After 13 epochs:\n",
      "Training loss = 0.04931470947777296\n",
      "Validation loss: 0.0606895277579651\n",
      "\n",
      "After 14 epochs:\n",
      "Training loss = 0.047824493587228296\n",
      "Validation loss: 0.059930735458828675\n",
      "\n",
      "After 15 epochs:\n",
      "Training loss = 0.04657806636293083\n",
      "Validation loss: 0.05943469342658295\n",
      "\n",
      "After 16 epochs:\n",
      "Training loss = 0.04479087944009646\n",
      "Validation loss: 0.07735297000163291\n",
      "\n",
      "After 17 epochs:\n",
      "Training loss = 0.0432262205406735\n",
      "Validation loss: 0.05346700162465937\n",
      "\n",
      "After 18 epochs:\n",
      "Training loss = 0.04227033516443106\n",
      "Validation loss: 0.055880854289354895\n",
      "\n",
      "After 19 epochs:\n",
      "Training loss = 0.04017127217049956\n",
      "Validation loss: 0.05872820976141628\n",
      "\n",
      "After 20 epochs:\n",
      "Training loss = 0.039271493687159924\n",
      "Validation loss: 0.05668178956027968\n",
      "\n",
      "CPU times: user 9h 55min 15s, sys: 2h 35min 8s, total: 12h 30min 24s\n",
      "Wall time: 12h 19min 16s\n"
     ]
    }
   ],
   "source": [
    "%%time\n",
    "\n",
    "params_train = {\n",
    "    'epochs': 20,\n",
    "    'print_every': 0,\n",
    "    'lr': 0.0001,\n",
    "}\n",
    "\n",
    "loss_fun = torch.nn.CrossEntropyLoss()\n",
    "\n",
    "detector.fit(loader_train, loader_val, loss_fun, **params_train)"
   ]
  },
  {
   "cell_type": "code",
   "execution_count": 9,
   "metadata": {},
   "outputs": [
    {
     "data": {
      "image/png": "[encoded data removed]",
      "text/plain": [
       "<Figure size 432x288 with 1 Axes>"
      ]
     },
     "metadata": {
      "needs_background": "light"
     },
     "output_type": "display_data"
    }
   ],
   "source": [
    "plt.plot(\n",
    "    detector.n_frames, detector.loss_history,\n",
    "    detector.n_frames, detector.val_loss_history,\n",
    ");"
   ]
  },
  {
   "cell_type": "code",
   "execution_count": 10,
   "metadata": {},
   "outputs": [],
   "source": [
    "# Save weights\n",
    "# Final state\n",
    "fname_wts_final = f\"unetd_D{params_unet['depth']}F{params_unet['n_filters']}E{params_train['epochs']}_final.pth\"\n",
    "torch.save(detector.model.state_dict(), os.path.join(MODEL_PATH, fname_wts_final))\n",
    "\n",
    "# # Best weights\n",
    "# fname_wts_best = f'unetd_D{params_unet['depth']}F{params_unet['n_filters']}E{params_train['epochs']}_best.pth'\n",
    "# torch.save(detector.best_model_wts, os.path.join(MODEL_PATH, fname_wts_best))"
   ]
  },
  {
   "cell_type": "code",
   "execution_count": null,
   "metadata": {},
   "outputs": [],
   "source": [
    "# Load weights\n",
    "detector.model.load_state_dict(torch.load(os.path.join(MODEL_PATH, 'unetd_D5F16E1_final.pth')))"
   ]
  }
 ],
 "metadata": {
  "kernelspec": {
   "display_name": "Python 3",
   "language": "python",
   "name": "python3"
  },
  "toc": {
   "base_numbering": 1,
   "nav_menu": {},
   "number_sections": false,
   "sideBar": true,
   "skip_h1_title": false,
   "title_cell": "Table of Contents",
   "title_sidebar": "Contents",
   "toc_cell": false,
   "toc_position": {},
   "toc_section_display": true,
   "toc_window_display": false
  },
  "varInspector": {
   "cols": {
    "lenName": 16,
    "lenType": 16,
    "lenVar": 40
   },
   "kernels_config": {
    "python": {
     "delete_cmd_postfix": "",
     "delete_cmd_prefix": "del ",
     "library": "var_list.py",
     "varRefreshCmd": "print(var_dic_list())"
    },
    "r": {
     "delete_cmd_postfix": ") ",
     "delete_cmd_prefix": "rm(",
     "library": "var_list.r",
     "varRefreshCmd": "cat(var_dic_list()) "
    }
   },
   "types_to_exclude": [
    "module",
    "function",
    "builtin_function_or_method",
    "instance",
    "_Feature"
   ],
   "window_display": false
  }
 },
 "nbformat": 4,
 "nbformat_minor": 2
}
